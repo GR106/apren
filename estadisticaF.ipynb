{
  "nbformat": 4,
  "nbformat_minor": 0,
  "metadata": {
    "colab": {
      "provenance": [],
      "authorship_tag": "ABX9TyMMglcIue+XVUYoXMz+4au+",
      "include_colab_link": true
    },
    "kernelspec": {
      "name": "python3",
      "display_name": "Python 3"
    },
    "language_info": {
      "name": "python"
    }
  },
  "cells": [
    {
      "cell_type": "markdown",
      "metadata": {
        "id": "view-in-github",
        "colab_type": "text"
      },
      "source": [
        "<a href=\"https://colab.research.google.com/github/GR106/apren/blob/main/estadisticaF.ipynb\" target=\"_parent\"><img src=\"https://colab.research.google.com/assets/colab-badge.svg\" alt=\"Open In Colab\"/></a>"
      ]
    },
    {
      "cell_type": "code",
      "execution_count": 354,
      "metadata": {
        "id": "fmjAVzMjrbio"
      },
      "outputs": [],
      "source": [
        "import pandas as pd\n",
        "import seaborn as sns\n",
        "import numpy as np\n",
        "import matplotlib.pyplot as plt\n",
        "from functools import reduce\n",
        "from scipy import stats"
      ]
    },
    {
      "cell_type": "code",
      "source": [
        "h = [   [12, 4, 11, 13, 11],\n",
        "    [7, 9, 10, 10, 7],\n",
        "    [7, 12, 6, 9, 15],\n",
        "    [10, 11, 12, 7, 8],\n",
        "    [8, 9, 11, 10, 9],\n",
        "    [10, 9, 9, 7, 9],\n",
        "    [11, 7, 10, 10, 11],\n",
        "    [9, 12, 12, 8, 13],\n",
        "    [9, 10, 8, 11, 10],\n",
        "    [13, 13, 9, 10, 13]\n",
        "]\n",
        "\n",
        "m  = [\n",
        "    [11, 9, 7, 10, 9],\n",
        "    [10, 10, 7, 9, 10],\n",
        "    [11, 8, 9, 6, 11],\n",
        "    [10, 7, 9, 12, 14],\n",
        "    [11, 12, 12, 8, 12],\n",
        "    [12, 9, 10, 11, 7],\n",
        "    [12, 7, 9, 8, 11],\n",
        "    [10, 8, 13, 8, 10],\n",
        "    [9, 9, 9, 11, 9],\n",
        "    [9, 8, 9, 12, 11]\n",
        "]\n"
      ],
      "metadata": {
        "id": "YJ5Igq59tl5i"
      },
      "execution_count": 355,
      "outputs": []
    },
    {
      "cell_type": "code",
      "source": [
        "#adaptamos los arrayas nuestro modulo numpy\n",
        "arrayh = np.array(h)\n",
        "arraym = np.array(m)\n",
        "flat_arrayh = arrayh.flatten()\n",
        "flat_arraym = arraym.flatten()\n",
        "flat_arrayh.sort()\n",
        "flat_arraym.sort()\n"
      ],
      "metadata": {
        "id": "JHn3SDgV7Mzg"
      },
      "execution_count": 356,
      "outputs": []
    },
    {
      "cell_type": "markdown",
      "source": [
        "#Hombres"
      ],
      "metadata": {
        "id": "iTtQ5TkkBTSe"
      }
    },
    {
      "cell_type": "code",
      "source": [
        "#media moda mediana y numero de datos\n",
        "media = np.mean(flat_arrayh)\n",
        "moda = stats.mode(flat_arrayh)\n",
        "mediana = np.median(flat_arrayh)\n",
        "n_datos= len(flat_arrayh)\n",
        "print(media)\n",
        "print(moda.mode)\n",
        "print(mediana)\n",
        "print(n_datos)"
      ],
      "metadata": {
        "colab": {
          "base_uri": "https://localhost:8080/"
        },
        "id": "VsDnSFjq9Yhq",
        "outputId": "76d2bb45-58a6-475c-fdf1-2a288ee20394"
      },
      "execution_count": 357,
      "outputs": [
        {
          "output_type": "stream",
          "name": "stdout",
          "text": [
            "9.82\n",
            "9\n",
            "10.0\n",
            "50\n"
          ]
        }
      ]
    },
    {
      "cell_type": "code",
      "source": [
        "flat_arrayh"
      ],
      "metadata": {
        "colab": {
          "base_uri": "https://localhost:8080/"
        },
        "id": "N0o-VicNN5j7",
        "outputId": "4fbabfa7-702b-42e3-faea-f6aea5deb7b6"
      },
      "execution_count": 358,
      "outputs": [
        {
          "output_type": "execute_result",
          "data": {
            "text/plain": [
              "array([ 4,  6,  7,  7,  7,  7,  7,  7,  8,  8,  8,  8,  9,  9,  9,  9,  9,\n",
              "        9,  9,  9,  9,  9, 10, 10, 10, 10, 10, 10, 10, 10, 10, 10, 11, 11,\n",
              "       11, 11, 11, 11, 11, 12, 12, 12, 12, 12, 13, 13, 13, 13, 13, 15])"
            ]
          },
          "metadata": {},
          "execution_count": 358
        }
      ]
    },
    {
      "cell_type": "code",
      "source": [
        "valores_unicos, repeticiones = np.unique(flat_arrayh, return_counts=True)\n",
        "dic_h = dict(zip(valores_unicos, repeticiones))\n",
        "\n",
        "# Imprimir el diccionario de recuentos\n",
        "print(dic_h)"
      ],
      "metadata": {
        "colab": {
          "base_uri": "https://localhost:8080/"
        },
        "id": "VKPCBEmVuTOz",
        "outputId": "205bef61-a834-4f68-9e86-fbeaa94ffc2f"
      },
      "execution_count": 359,
      "outputs": [
        {
          "output_type": "stream",
          "name": "stdout",
          "text": [
            "{4: 1, 6: 1, 7: 6, 8: 4, 9: 10, 10: 10, 11: 7, 12: 5, 13: 5, 15: 1}\n"
          ]
        }
      ]
    },
    {
      "cell_type": "code",
      "source": [
        "f =list(map(lambda x: (x-media)**2 , valores_unicos))\n",
        "print(f)\n",
        "#(xi-promedio)^2"
      ],
      "metadata": {
        "colab": {
          "base_uri": "https://localhost:8080/"
        },
        "id": "psBzwMNIpW49",
        "outputId": "7a641115-c5c8-4cbf-c0ed-b4919ddedf2f"
      },
      "execution_count": 360,
      "outputs": [
        {
          "output_type": "stream",
          "name": "stdout",
          "text": [
            "[33.872400000000006, 14.592400000000001, 7.952400000000002, 3.312400000000001, 0.6724000000000004, 0.0323999999999999, 1.3923999999999994, 4.752399999999999, 10.112399999999997, 26.832399999999996]\n"
          ]
        }
      ]
    },
    {
      "cell_type": "code",
      "source": [
        "g = reduce(lambda x, y: x + y , f)\n",
        "print(g)\n",
        "#se suman los datos de la columna"
      ],
      "metadata": {
        "colab": {
          "base_uri": "https://localhost:8080/"
        },
        "id": "-aYbHq2b9CBz",
        "outputId": "a1bc504f-077d-4256-e01b-113e5303d34e"
      },
      "execution_count": 361,
      "outputs": [
        {
          "output_type": "stream",
          "name": "stdout",
          "text": [
            "103.52400000000002\n"
          ]
        }
      ]
    },
    {
      "cell_type": "code",
      "source": [
        "#varianza\n",
        "h =n_datos-1\n",
        "varianza = g/h\n",
        "varianza"
      ],
      "metadata": {
        "colab": {
          "base_uri": "https://localhost:8080/"
        },
        "id": "NkRYtWsJ-0dX",
        "outputId": "e70557ac-fe40-4893-80a7-0b16c0c625a3"
      },
      "execution_count": 362,
      "outputs": [
        {
          "output_type": "execute_result",
          "data": {
            "text/plain": [
              "2.1127346938775515"
            ]
          },
          "metadata": {},
          "execution_count": 362
        }
      ]
    },
    {
      "cell_type": "code",
      "source": [
        "#desviacion estandar\n",
        "des= np.sqrt(varianza)\n",
        "des"
      ],
      "metadata": {
        "colab": {
          "base_uri": "https://localhost:8080/"
        },
        "id": "aZWzNd1R_WSQ",
        "outputId": "9889546c-1d19-493e-c3b0-0a16d3eabdc7"
      },
      "execution_count": 363,
      "outputs": [
        {
          "output_type": "execute_result",
          "data": {
            "text/plain": [
              "1.4535249202808844"
            ]
          },
          "metadata": {},
          "execution_count": 363
        }
      ]
    },
    {
      "cell_type": "code",
      "source": [
        "plt.hist(flat_arrayh, bins=10,edgecolor=\"white\") ##recordatorio que bins son la cantidad de barras\n",
        "plt.xlabel(\"Min en el celular\")\n",
        "plt.ylabel(\"Frecuencia\")\n",
        "plt.title(\"Histograma de min en celular hombres\")\n",
        "\n",
        "plt.show()\n"
      ],
      "metadata": {
        "colab": {
          "base_uri": "https://localhost:8080/",
          "height": 472
        },
        "id": "L6YrkT2xF-u5",
        "outputId": "00294c76-71c5-4714-df42-c7c41819ce94"
      },
      "execution_count": 364,
      "outputs": [
        {
          "output_type": "display_data",
          "data": {
            "text/plain": [
              "<Figure size 640x480 with 1 Axes>"
            ],
            "image/png": "[encoded data removed]"
          },
          "metadata": {}
        }
      ]
    },
    {
      "cell_type": "code",
      "source": [
        "#Quartiles\n",
        "Q1 = np.percentile(flat_arrayh, 25)\n",
        "Q3 = np.percentile(flat_arrayh, 75)\n",
        "min_val = np.percentile(flat_arrayh, q=0)\n",
        "max_val = np.percentile(flat_arrayh, q=100)\n",
        "print(min_val,  Q1, mediana, Q3, max_val)\n",
        "print(\"min   Q1    Q3   max_val\")"
      ],
      "metadata": {
        "colab": {
          "base_uri": "https://localhost:8080/"
        },
        "id": "rb_6aaSkTDa4",
        "outputId": "f6ae2c04-a629-4aab-eb43-636fc0e15168"
      },
      "execution_count": 365,
      "outputs": [
        {
          "output_type": "stream",
          "name": "stdout",
          "text": [
            "4.0 9.0 10.0 11.0 15.0\n",
            "min   Q1    Q3   max_val\n"
          ]
        }
      ]
    },
    {
      "cell_type": "code",
      "source": [
        "res_2 = np.percentile(flat_arrayh, 25)\n",
        "res_2"
      ],
      "metadata": {
        "colab": {
          "base_uri": "https://localhost:8080/"
        },
        "id": "DpVnNFlCbFWJ",
        "outputId": "fa70ca01-9b7f-48e9-8bf5-05203d97ec5d"
      },
      "execution_count": 366,
      "outputs": [
        {
          "output_type": "execute_result",
          "data": {
            "text/plain": [
              "9.0"
            ]
          },
          "metadata": {},
          "execution_count": 366
        }
      ]
    },
    {
      "cell_type": "code",
      "source": [
        "res_3 = np.percentile(flat_arrayh, 50)\n",
        "res_3"
      ],
      "metadata": {
        "colab": {
          "base_uri": "https://localhost:8080/"
        },
        "id": "3keaavQGccmY",
        "outputId": "ba14487f-3577-4f94-cb72-55899ee278c3"
      },
      "execution_count": 367,
      "outputs": [
        {
          "output_type": "execute_result",
          "data": {
            "text/plain": [
              "10.0"
            ]
          },
          "metadata": {},
          "execution_count": 367
        }
      ]
    },
    {
      "cell_type": "markdown",
      "source": [
        "# Mujeres\n"
      ],
      "metadata": {
        "id": "E9sg9m-mBGN0"
      }
    },
    {
      "cell_type": "code",
      "source": [
        "media = np.mean(flat_arraym)\n",
        "moda = stats.mode(flat_arraym)\n",
        "mediana = np.median(flat_arraym)\n",
        "n_datos= len(flat_arraym)\n",
        "print(media)\n",
        "print(moda.mode)\n",
        "print(mediana)\n",
        "print(n_datos)"
      ],
      "metadata": {
        "colab": {
          "base_uri": "https://localhost:8080/"
        },
        "id": "1eWMd_EszMCo",
        "outputId": "233de90d-d69d-40ec-c0da-1a157ae2968e"
      },
      "execution_count": 368,
      "outputs": [
        {
          "output_type": "stream",
          "name": "stdout",
          "text": [
            "9.7\n",
            "9\n",
            "9.5\n",
            "50\n"
          ]
        }
      ]
    },
    {
      "cell_type": "code",
      "source": [
        "valores_unicosm, repeticionesm = np.unique(flat_arraym, return_counts=True)\n",
        "dic_h = dict(zip(valores_unicosm, repeticionesm))\n",
        "\n",
        "# Imprimir el diccionario de recuentos\n",
        "print(dic_h)"
      ],
      "metadata": {
        "colab": {
          "base_uri": "https://localhost:8080/"
        },
        "id": "hee1NG2zygNX",
        "outputId": "6c6599bc-b8c5-4e84-d65a-74769685c188"
      },
      "execution_count": 369,
      "outputs": [
        {
          "output_type": "stream",
          "name": "stdout",
          "text": [
            "{6: 1, 7: 5, 8: 6, 9: 13, 10: 8, 11: 8, 12: 7, 13: 1, 14: 1}\n"
          ]
        }
      ]
    },
    {
      "cell_type": "code",
      "source": [
        "valores_unicosm"
      ],
      "metadata": {
        "colab": {
          "base_uri": "https://localhost:8080/"
        },
        "id": "6gJDU4xBC-EH",
        "outputId": "b71dd4ec-a1aa-4136-dc57-0660125008eb"
      },
      "execution_count": 370,
      "outputs": [
        {
          "output_type": "execute_result",
          "data": {
            "text/plain": [
              "array([ 6,  7,  8,  9, 10, 11, 12, 13, 14])"
            ]
          },
          "metadata": {},
          "execution_count": 370
        }
      ]
    },
    {
      "cell_type": "code",
      "source": [
        "f2 =list(map(lambda x: (x-media)**2 , valores_unicosm))\n",
        "print(f)\n",
        "#(xi-promedio)^2"
      ],
      "metadata": {
        "colab": {
          "base_uri": "https://localhost:8080/"
        },
        "id": "DI-TcCjHAGBW",
        "outputId": "18bb7566-a2c1-4bc2-cd1b-685876b8e7dc"
      },
      "execution_count": 371,
      "outputs": [
        {
          "output_type": "stream",
          "name": "stdout",
          "text": [
            "[33.872400000000006, 14.592400000000001, 7.952400000000002, 3.312400000000001, 0.6724000000000004, 0.0323999999999999, 1.3923999999999994, 4.752399999999999, 10.112399999999997, 26.832399999999996]\n"
          ]
        }
      ]
    },
    {
      "cell_type": "code",
      "source": [
        "g2 = reduce(lambda x, y: x + y , f2)\n",
        "print(g2)"
      ],
      "metadata": {
        "colab": {
          "base_uri": "https://localhost:8080/"
        },
        "id": "YnUUgpmHBzhD",
        "outputId": "7f978aaa-ba5d-461d-c4ae-16d5c7be81b2"
      },
      "execution_count": 372,
      "outputs": [
        {
          "output_type": "stream",
          "name": "stdout",
          "text": [
            "60.81\n"
          ]
        }
      ]
    },
    {
      "cell_type": "code",
      "source": [
        "#varianza m\n",
        "m =n_datos-1\n",
        "varianza2 = g2/m\n",
        "varianza2"
      ],
      "metadata": {
        "colab": {
          "base_uri": "https://localhost:8080/"
        },
        "id": "PdkRuBVKCMte",
        "outputId": "86a8ad15-202d-41be-e8c9-cc916efac2ee"
      },
      "execution_count": 373,
      "outputs": [
        {
          "output_type": "execute_result",
          "data": {
            "text/plain": [
              "1.2410204081632654"
            ]
          },
          "metadata": {},
          "execution_count": 373
        }
      ]
    },
    {
      "cell_type": "code",
      "source": [
        "#desviacion estandar\n",
        "des2= np.sqrt(varianza2)\n",
        "des2"
      ],
      "metadata": {
        "colab": {
          "base_uri": "https://localhost:8080/"
        },
        "id": "ODoZVNnkCTjz",
        "outputId": "6767b73f-0f58-406a-b5c6-daa96ff48875"
      },
      "execution_count": 374,
      "outputs": [
        {
          "output_type": "execute_result",
          "data": {
            "text/plain": [
              "1.1140109551361088"
            ]
          },
          "metadata": {},
          "execution_count": 374
        }
      ]
    },
    {
      "cell_type": "code",
      "source": [
        "plt.hist(flat_arraym, bins=9,edgecolor=\"white\") ##recordatorio que bins son la cantidad de barras\n",
        "plt.xlabel(\"Min en el celular\")\n",
        "plt.ylabel(\"Frecuencia\")\n",
        "plt.title(\"Histograma de min en celular mujeres\")\n",
        "\n",
        "plt.show()"
      ],
      "metadata": {
        "colab": {
          "base_uri": "https://localhost:8080/",
          "height": 472
        },
        "id": "GGB6uPFUQkfh",
        "outputId": "e1b3e91c-986c-40ea-c3fb-7c84461ffb6c"
      },
      "execution_count": 375,
      "outputs": [
        {
          "output_type": "display_data",
          "data": {
            "text/plain": [
              "<Figure size 640x480 with 1 Axes>"
            ],
            "image/png": "[encoded data removed]"
          },
          "metadata": {}
        }
      ]
    },
    {
      "cell_type": "code",
      "source": [
        "#Quartiles\n",
        "Q1 = np.percentile(flat_arraym, 25)\n",
        "Q3 = np.percentile(flat_arraym, 75)\n",
        "min_val = np.percentile(flat_arraym, q=0)\n",
        "max_val = np.percentile(flat_arraym, q=100)\n",
        "print(min_val,  Q1, mediana, Q3, max_val)\n",
        "print(\"min  Q1     Q3   max_val\")"
      ],
      "metadata": {
        "colab": {
          "base_uri": "https://localhost:8080/"
        },
        "id": "q6jVs-GKcmvL",
        "outputId": "7cd2c6b4-ed68-4692-e2eb-8122275a19d4"
      },
      "execution_count": 379,
      "outputs": [
        {
          "output_type": "stream",
          "name": "stdout",
          "text": [
            "6.0 9.0 9.5 11.0 14.0\n",
            "min  Q1     Q3   max_val\n"
          ]
        }
      ]
    },
    {
      "cell_type": "code",
      "source": [
        "res_4 = np.percentile(flat_arraym, 25) #Q1\n",
        "res_4"
      ],
      "metadata": {
        "colab": {
          "base_uri": "https://localhost:8080/"
        },
        "id": "lYetsbn7cvu3",
        "outputId": "7bffb888-8ff3-43d2-8993-6b5e81d37321"
      },
      "execution_count": 382,
      "outputs": [
        {
          "output_type": "execute_result",
          "data": {
            "text/plain": [
              "9.0"
            ]
          },
          "metadata": {},
          "execution_count": 382
        }
      ]
    },
    {
      "cell_type": "code",
      "source": [
        "res_5 = np.percentile(flat_arraym, 50) #Q2\n",
        "res_5"
      ],
      "metadata": {
        "colab": {
          "base_uri": "https://localhost:8080/"
        },
        "id": "nkvody-Ic6vA",
        "outputId": "52a67b69-a1c1-4385-d9b7-f7f14b269a0e"
      },
      "execution_count": 383,
      "outputs": [
        {
          "output_type": "execute_result",
          "data": {
            "text/plain": [
              "9.5"
            ]
          },
          "metadata": {},
          "execution_count": 383
        }
      ]
    },
    {
      "cell_type": "markdown",
      "source": [
        "Comparativo\n",
        "\n",
        "Promedio h-m\n",
        "\n",
        "9.82-9.7\n"
      ],
      "metadata": {
        "id": "S9yUSiLtdBMW"
      }
    }
  ]
}